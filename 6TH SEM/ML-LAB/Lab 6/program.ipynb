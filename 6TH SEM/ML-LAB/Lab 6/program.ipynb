{
  "nbformat": 4,
  "nbformat_minor": 0,
  "metadata": {
    "colab": {
      "name": "Lab6.ipynb",
      "provenance": []
    },
    "kernelspec": {
      "name": "python383jvsc74a57bd0855af5821cc905ef77fb55b78a5d4ee2260b8abbbf62a89393721590faeb7ff8",
      "display_name": "Python 3.8.3 64-bit ('base': conda)"
    },
    "language_info": {
      "name": "python",
      "version": "3.8.3"
    }
  },
  "cells": [
    {
      "cell_type": "code",
      "metadata": {
        "id": "BuO2dvEkmvdE"
      },
      "source": [
        "from sklearn.preprocessing import StandardScaler\n",
        "from sklearn.cluster import KMeans\n",
        "import pandas as pd\n",
        "import numpy as np\n",
        "from itertools import cycle, islice"
      ],
      "execution_count": 1,
      "outputs": []
    },
    {
      "cell_type": "code",
      "metadata": {
        "id": "NTBgBRMOnCbU"
      },
      "source": [
        "data = pd.read_csv('minute_weather.csv')"
      ],
      "execution_count": 2,
      "outputs": []
    },
    {
      "cell_type": "code",
      "metadata": {
        "id": "iR4y3o9CnHxw",
        "colab": {
          "base_uri": "https://localhost:8080/"
        },
        "outputId": "173ecf71-5730-40ad-97fc-c2a0aef903a4"
      },
      "source": [
        "data.shape"
      ],
      "execution_count": 3,
      "outputs": [
        {
          "output_type": "execute_result",
          "data": {
            "text/plain": [
              "(1587257, 13)"
            ]
          },
          "metadata": {},
          "execution_count": 3
        }
      ]
    },
    {
      "cell_type": "code",
      "metadata": {
        "id": "fcOqhYH8nedH",
        "colab": {
          "base_uri": "https://localhost:8080/",
          "height": 299
        },
        "outputId": "18b9d5b7-6b89-45d1-fc0b-39bb7e2fc547"
      },
      "source": [
        "data.head()"
      ],
      "execution_count": 4,
      "outputs": [
        {
          "output_type": "execute_result",
          "data": {
            "text/plain": [
              "   rowID     hpwren_timestamp  air_pressure  air_temp  avg_wind_direction  \\\n",
              "0      0  2011-09-10 00:00:49         912.3     64.76                97.0   \n",
              "1      1  2011-09-10 00:01:49         912.3     63.86               161.0   \n",
              "2      2  2011-09-10 00:02:49         912.3     64.22                77.0   \n",
              "3      3  2011-09-10 00:03:49         912.3     64.40                89.0   \n",
              "4      4  2011-09-10 00:04:49         912.3     64.40               185.0   \n",
              "\n",
              "   avg_wind_speed  max_wind_direction  max_wind_speed  min_wind_direction  \\\n",
              "0             1.2               106.0             1.6                85.0   \n",
              "1             0.8               215.0             1.5                43.0   \n",
              "2             0.7               143.0             1.2               324.0   \n",
              "3             1.2               112.0             1.6                12.0   \n",
              "4             0.4               260.0             1.0               100.0   \n",
              "\n",
              "   min_wind_speed  rain_accumulation  rain_duration  relative_humidity  \n",
              "0             1.0                NaN            NaN               60.5  \n",
              "1             0.2                0.0            0.0               39.9  \n",
              "2             0.3                0.0            0.0               43.0  \n",
              "3             0.7                0.0            0.0               49.5  \n",
              "4             0.1                0.0            0.0               58.8  "
            ],
            "text/html": "<div>\n<style scoped>\n    .dataframe tbody tr th:only-of-type {\n        vertical-align: middle;\n    }\n\n    .dataframe tbody tr th {\n        vertical-align: top;\n    }\n\n    .dataframe thead th {\n        text-align: right;\n    }\n</style>\n<table border=\"1\" class=\"dataframe\">\n  <thead>\n    <tr style=\"text-align: right;\">\n      <th></th>\n      <th>rowID</th>\n      <th>hpwren_timestamp</th>\n      <th>air_pressure</th>\n      <th>air_temp</th>\n      <th>avg_wind_direction</th>\n      <th>avg_wind_speed</th>\n      <th>max_wind_direction</th>\n      <th>max_wind_speed</th>\n      <th>min_wind_direction</th>\n      <th>min_wind_speed</th>\n      <th>rain_accumulation</th>\n      <th>rain_duration</th>\n      <th>relative_humidity</th>\n    </tr>\n  </thead>\n  <tbody>\n    <tr>\n      <th>0</th>\n      <td>0</td>\n      <td>2011-09-10 00:00:49</td>\n      <td>912.3</td>\n      <td>64.76</td>\n      <td>97.0</td>\n      <td>1.2</td>\n      <td>106.0</td>\n      <td>1.6</td>\n      <td>85.0</td>\n      <td>1.0</td>\n      <td>NaN</td>\n      <td>NaN</td>\n      <td>60.5</td>\n    </tr>\n    <tr>\n      <th>1</th>\n      <td>1</td>\n      <td>2011-09-10 00:01:49</td>\n      <td>912.3</td>\n      <td>63.86</td>\n      <td>161.0</td>\n      <td>0.8</td>\n      <td>215.0</td>\n      <td>1.5</td>\n      <td>43.0</td>\n      <td>0.2</td>\n      <td>0.0</td>\n      <td>0.0</td>\n      <td>39.9</td>\n    </tr>\n    <tr>\n      <th>2</th>\n      <td>2</td>\n      <td>2011-09-10 00:02:49</td>\n      <td>912.3</td>\n      <td>64.22</td>\n      <td>77.0</td>\n      <td>0.7</td>\n      <td>143.0</td>\n      <td>1.2</td>\n      <td>324.0</td>\n      <td>0.3</td>\n      <td>0.0</td>\n      <td>0.0</td>\n      <td>43.0</td>\n    </tr>\n    <tr>\n      <th>3</th>\n      <td>3</td>\n      <td>2011-09-10 00:03:49</td>\n      <td>912.3</td>\n      <td>64.40</td>\n      <td>89.0</td>\n      <td>1.2</td>\n      <td>112.0</td>\n      <td>1.6</td>\n      <td>12.0</td>\n      <td>0.7</td>\n      <td>0.0</td>\n      <td>0.0</td>\n      <td>49.5</td>\n    </tr>\n    <tr>\n      <th>4</th>\n      <td>4</td>\n      <td>2011-09-10 00:04:49</td>\n      <td>912.3</td>\n      <td>64.40</td>\n      <td>185.0</td>\n      <td>0.4</td>\n      <td>260.0</td>\n      <td>1.0</td>\n      <td>100.0</td>\n      <td>0.1</td>\n      <td>0.0</td>\n      <td>0.0</td>\n      <td>58.8</td>\n    </tr>\n  </tbody>\n</table>\n</div>"
          },
          "metadata": {},
          "execution_count": 4
        }
      ]
    },
    {
      "cell_type": "code",
      "metadata": {
        "id": "OECWwkQ_nH6D",
        "colab": {
          "base_uri": "https://localhost:8080/"
        },
        "outputId": "bfe00bb8-f98d-451b-c29e-d8ec1c2ca270"
      },
      "source": [
        "#data sampling\n",
        "sampled_df = data[(data['rowID'] % 10) == 0]\n",
        "sampled_df.shape"
      ],
      "execution_count": 5,
      "outputs": [
        {
          "output_type": "execute_result",
          "data": {
            "text/plain": [
              "(158726, 13)"
            ]
          },
          "metadata": {},
          "execution_count": 5
        }
      ]
    },
    {
      "cell_type": "code",
      "metadata": {
        "id": "1mIpVMOmnRZ6",
        "colab": {
          "base_uri": "https://localhost:8080/",
          "height": 402
        },
        "outputId": "1ec9d57c-e17e-4a2e-fb57-9c5ecc58f747"
      },
      "source": [
        "sampled_df.describe().transpose()"
      ],
      "execution_count": 6,
      "outputs": [
        {
          "output_type": "execute_result",
          "data": {
            "text/plain": [
              "                       count           mean            std     min       25%  \\\n",
              "rowID               158726.0  793625.000000  458203.937509    0.00  396812.5   \n",
              "air_pressure        158726.0     916.830161       3.051717  905.00     914.8   \n",
              "air_temp            158726.0      61.851589      11.833569   31.64      52.7   \n",
              "avg_wind_direction  158680.0     162.156100      95.278201    0.00      62.0   \n",
              "avg_wind_speed      158680.0       2.775215       2.057624    0.00       1.3   \n",
              "max_wind_direction  158680.0     163.462144      92.452139    0.00      68.0   \n",
              "max_wind_speed      158680.0       3.400558       2.418802    0.10       1.6   \n",
              "min_wind_direction  158680.0     166.774017      97.441109    0.00      76.0   \n",
              "min_wind_speed      158680.0       2.134664       1.742113    0.00       0.8   \n",
              "rain_accumulation   158725.0       0.000318       0.011236    0.00       0.0   \n",
              "rain_duration       158725.0       0.409627       8.665523    0.00       0.0   \n",
              "relative_humidity   158726.0      47.609470      26.214409    0.90      24.7   \n",
              "\n",
              "                          50%         75%         max  \n",
              "rowID               793625.00  1190437.50  1587250.00  \n",
              "air_pressure           916.70      918.70      929.50  \n",
              "air_temp                62.24       70.88       99.50  \n",
              "avg_wind_direction     182.00      217.00      359.00  \n",
              "avg_wind_speed           2.20        3.80       31.90  \n",
              "max_wind_direction     187.00      223.00      359.00  \n",
              "max_wind_speed           2.70        4.60       36.00  \n",
              "min_wind_direction     180.00      212.00      359.00  \n",
              "min_wind_speed           1.60        3.00       31.60  \n",
              "rain_accumulation        0.00        0.00        3.12  \n",
              "rain_duration            0.00        0.00     2960.00  \n",
              "relative_humidity       44.70       68.00       93.00  "
            ],
            "text/html": "<div>\n<style scoped>\n    .dataframe tbody tr th:only-of-type {\n        vertical-align: middle;\n    }\n\n    .dataframe tbody tr th {\n        vertical-align: top;\n    }\n\n    .dataframe thead th {\n        text-align: right;\n    }\n</style>\n<table border=\"1\" class=\"dataframe\">\n  <thead>\n    <tr style=\"text-align: right;\">\n      <th></th>\n      <th>count</th>\n      <th>mean</th>\n      <th>std</th>\n      <th>min</th>\n      <th>25%</th>\n      <th>50%</th>\n      <th>75%</th>\n      <th>max</th>\n    </tr>\n  </thead>\n  <tbody>\n    <tr>\n      <th>rowID</th>\n      <td>158726.0</td>\n      <td>793625.000000</td>\n      <td>458203.937509</td>\n      <td>0.00</td>\n      <td>396812.5</td>\n      <td>793625.00</td>\n      <td>1190437.50</td>\n      <td>1587250.00</td>\n    </tr>\n    <tr>\n      <th>air_pressure</th>\n      <td>158726.0</td>\n      <td>916.830161</td>\n      <td>3.051717</td>\n      <td>905.00</td>\n      <td>914.8</td>\n      <td>916.70</td>\n      <td>918.70</td>\n      <td>929.50</td>\n    </tr>\n    <tr>\n      <th>air_temp</th>\n      <td>158726.0</td>\n      <td>61.851589</td>\n      <td>11.833569</td>\n      <td>31.64</td>\n      <td>52.7</td>\n      <td>62.24</td>\n      <td>70.88</td>\n      <td>99.50</td>\n    </tr>\n    <tr>\n      <th>avg_wind_direction</th>\n      <td>158680.0</td>\n      <td>162.156100</td>\n      <td>95.278201</td>\n      <td>0.00</td>\n      <td>62.0</td>\n      <td>182.00</td>\n      <td>217.00</td>\n      <td>359.00</td>\n    </tr>\n    <tr>\n      <th>avg_wind_speed</th>\n      <td>158680.0</td>\n      <td>2.775215</td>\n      <td>2.057624</td>\n      <td>0.00</td>\n      <td>1.3</td>\n      <td>2.20</td>\n      <td>3.80</td>\n      <td>31.90</td>\n    </tr>\n    <tr>\n      <th>max_wind_direction</th>\n      <td>158680.0</td>\n      <td>163.462144</td>\n      <td>92.452139</td>\n      <td>0.00</td>\n      <td>68.0</td>\n      <td>187.00</td>\n      <td>223.00</td>\n      <td>359.00</td>\n    </tr>\n    <tr>\n      <th>max_wind_speed</th>\n      <td>158680.0</td>\n      <td>3.400558</td>\n      <td>2.418802</td>\n      <td>0.10</td>\n      <td>1.6</td>\n      <td>2.70</td>\n      <td>4.60</td>\n      <td>36.00</td>\n    </tr>\n    <tr>\n      <th>min_wind_direction</th>\n      <td>158680.0</td>\n      <td>166.774017</td>\n      <td>97.441109</td>\n      <td>0.00</td>\n      <td>76.0</td>\n      <td>180.00</td>\n      <td>212.00</td>\n      <td>359.00</td>\n    </tr>\n    <tr>\n      <th>min_wind_speed</th>\n      <td>158680.0</td>\n      <td>2.134664</td>\n      <td>1.742113</td>\n      <td>0.00</td>\n      <td>0.8</td>\n      <td>1.60</td>\n      <td>3.00</td>\n      <td>31.60</td>\n    </tr>\n    <tr>\n      <th>rain_accumulation</th>\n      <td>158725.0</td>\n      <td>0.000318</td>\n      <td>0.011236</td>\n      <td>0.00</td>\n      <td>0.0</td>\n      <td>0.00</td>\n      <td>0.00</td>\n      <td>3.12</td>\n    </tr>\n    <tr>\n      <th>rain_duration</th>\n      <td>158725.0</td>\n      <td>0.409627</td>\n      <td>8.665523</td>\n      <td>0.00</td>\n      <td>0.0</td>\n      <td>0.00</td>\n      <td>0.00</td>\n      <td>2960.00</td>\n    </tr>\n    <tr>\n      <th>relative_humidity</th>\n      <td>158726.0</td>\n      <td>47.609470</td>\n      <td>26.214409</td>\n      <td>0.90</td>\n      <td>24.7</td>\n      <td>44.70</td>\n      <td>68.00</td>\n      <td>93.00</td>\n    </tr>\n  </tbody>\n</table>\n</div>"
          },
          "metadata": {},
          "execution_count": 6
        }
      ]
    },
    {
      "cell_type": "code",
      "metadata": {
        "id": "-C5XuZDUnRcx",
        "colab": {
          "base_uri": "https://localhost:8080/"
        },
        "outputId": "ca8c62ec-d18c-4614-a4b2-d3ca0b8d2b7c"
      },
      "source": [
        "sampled_df[sampled_df['rain_accumulation'] == 0].shape"
      ],
      "execution_count": 7,
      "outputs": [
        {
          "output_type": "execute_result",
          "data": {
            "text/plain": [
              "(157812, 13)"
            ]
          },
          "metadata": {},
          "execution_count": 7
        }
      ]
    },
    {
      "cell_type": "code",
      "metadata": {
        "id": "cGUDTjyZnRgD",
        "colab": {
          "base_uri": "https://localhost:8080/"
        },
        "outputId": "412bd4e2-b5f3-42de-ac97-0c71c0732bd6"
      },
      "source": [
        "sampled_df[sampled_df['rain_duration'] == 0].shape"
      ],
      "execution_count": 8,
      "outputs": [
        {
          "output_type": "execute_result",
          "data": {
            "text/plain": [
              "(157237, 13)"
            ]
          },
          "metadata": {},
          "execution_count": 8
        }
      ]
    },
    {
      "cell_type": "code",
      "metadata": {
        "id": "36uRdlSPnRjN"
      },
      "source": [
        "del sampled_df['rain_accumulation']\n",
        "del sampled_df['rain_duration']"
      ],
      "execution_count": 9,
      "outputs": []
    },
    {
      "cell_type": "code",
      "metadata": {
        "id": "pqbdnmPBnqVb"
      },
      "source": [
        "rows_before = sampled_df.shape[0]\n",
        "sampled_df = sampled_df.dropna()\n",
        "rows_after = sampled_df.shape[0]"
      ],
      "execution_count": 10,
      "outputs": []
    },
    {
      "cell_type": "code",
      "metadata": {
        "id": "e0TK7kq4nqZc",
        "colab": {
          "base_uri": "https://localhost:8080/"
        },
        "outputId": "276bf173-fdbc-4fbf-803d-0bba103d3cdd"
      },
      "source": [
        "rows_before - rows_after"
      ],
      "execution_count": 11,
      "outputs": [
        {
          "output_type": "execute_result",
          "data": {
            "text/plain": [
              "46"
            ]
          },
          "metadata": {},
          "execution_count": 11
        }
      ]
    },
    {
      "cell_type": "code",
      "metadata": {
        "id": "JQcvFVh1nqcb",
        "colab": {
          "base_uri": "https://localhost:8080/"
        },
        "outputId": "ff2c1c55-ee17-4bb3-c195-5d44d7cc6430"
      },
      "source": [
        "sampled_df.columns"
      ],
      "execution_count": 12,
      "outputs": [
        {
          "output_type": "execute_result",
          "data": {
            "text/plain": [
              "Index(['rowID', 'hpwren_timestamp', 'air_pressure', 'air_temp',\n",
              "       'avg_wind_direction', 'avg_wind_speed', 'max_wind_direction',\n",
              "       'max_wind_speed', 'min_wind_direction', 'min_wind_speed',\n",
              "       'relative_humidity'],\n",
              "      dtype='object')"
            ]
          },
          "metadata": {},
          "execution_count": 12
        }
      ]
    },
    {
      "cell_type": "code",
      "metadata": {
        "id": "-0cFANsWnqft"
      },
      "source": [
        "features = ['air_pressure', 'air_temp', 'avg_wind_direction', 'avg_wind_speed', 'max_wind_direction', 'max_wind_speed','relative_humidity']"
      ],
      "execution_count": 13,
      "outputs": []
    },
    {
      "cell_type": "code",
      "metadata": {
        "id": "6Liyxy9bn8sC"
      },
      "source": [
        "select_df = sampled_df[features]"
      ],
      "execution_count": 14,
      "outputs": []
    },
    {
      "cell_type": "code",
      "metadata": {
        "id": "N8a26jIHn8vX",
        "colab": {
          "base_uri": "https://localhost:8080/"
        },
        "outputId": "eada4888-b0bc-4fcd-8566-6ce5073ecadb"
      },
      "source": [
        "select_df.columns"
      ],
      "execution_count": 15,
      "outputs": [
        {
          "output_type": "execute_result",
          "data": {
            "text/plain": [
              "Index(['air_pressure', 'air_temp', 'avg_wind_direction', 'avg_wind_speed',\n",
              "       'max_wind_direction', 'max_wind_speed', 'relative_humidity'],\n",
              "      dtype='object')"
            ]
          },
          "metadata": {},
          "execution_count": 15
        }
      ]
    },
    {
      "cell_type": "code",
      "metadata": {
        "id": "md6qNrMgoGM2",
        "colab": {
          "base_uri": "https://localhost:8080/",
          "height": 402
        },
        "outputId": "801c07bd-7113-40b9-ecdd-ad8e48be11a7"
      },
      "source": [
        "select_df"
      ],
      "execution_count": 16,
      "outputs": [
        {
          "output_type": "execute_result",
          "data": {
            "text/plain": [
              "         air_pressure  air_temp  avg_wind_direction  avg_wind_speed  \\\n",
              "0               912.3     64.76                97.0             1.2   \n",
              "10              912.3     62.24               144.0             1.2   \n",
              "20              912.2     63.32               100.0             2.0   \n",
              "30              912.2     62.60                91.0             2.0   \n",
              "40              912.2     64.04                81.0             2.6   \n",
              "...               ...       ...                 ...             ...   \n",
              "1587210         915.9     75.56               330.0             1.0   \n",
              "1587220         915.9     75.56               330.0             1.1   \n",
              "1587230         915.9     75.56               344.0             1.4   \n",
              "1587240         915.9     75.20               359.0             1.3   \n",
              "1587250         915.9     74.84                 6.0             1.5   \n",
              "\n",
              "         max_wind_direction  max_wind_speed  relative_humidity  \n",
              "0                     106.0             1.6               60.5  \n",
              "10                    167.0             1.8               38.5  \n",
              "20                    122.0             2.5               58.3  \n",
              "30                    103.0             2.4               57.9  \n",
              "40                     88.0             2.9               57.4  \n",
              "...                     ...             ...                ...  \n",
              "1587210               341.0             1.3               47.8  \n",
              "1587220               341.0             1.4               48.0  \n",
              "1587230               352.0             1.7               48.0  \n",
              "1587240                 9.0             1.6               46.3  \n",
              "1587250                20.0             1.9               46.1  \n",
              "\n",
              "[158680 rows x 7 columns]"
            ],
            "text/html": "<div>\n<style scoped>\n    .dataframe tbody tr th:only-of-type {\n        vertical-align: middle;\n    }\n\n    .dataframe tbody tr th {\n        vertical-align: top;\n    }\n\n    .dataframe thead th {\n        text-align: right;\n    }\n</style>\n<table border=\"1\" class=\"dataframe\">\n  <thead>\n    <tr style=\"text-align: right;\">\n      <th></th>\n      <th>air_pressure</th>\n      <th>air_temp</th>\n      <th>avg_wind_direction</th>\n      <th>avg_wind_speed</th>\n      <th>max_wind_direction</th>\n      <th>max_wind_speed</th>\n      <th>relative_humidity</th>\n    </tr>\n  </thead>\n  <tbody>\n    <tr>\n      <th>0</th>\n      <td>912.3</td>\n      <td>64.76</td>\n      <td>97.0</td>\n      <td>1.2</td>\n      <td>106.0</td>\n      <td>1.6</td>\n      <td>60.5</td>\n    </tr>\n    <tr>\n      <th>10</th>\n      <td>912.3</td>\n      <td>62.24</td>\n      <td>144.0</td>\n      <td>1.2</td>\n      <td>167.0</td>\n      <td>1.8</td>\n      <td>38.5</td>\n    </tr>\n    <tr>\n      <th>20</th>\n      <td>912.2</td>\n      <td>63.32</td>\n      <td>100.0</td>\n      <td>2.0</td>\n      <td>122.0</td>\n      <td>2.5</td>\n      <td>58.3</td>\n    </tr>\n    <tr>\n      <th>30</th>\n      <td>912.2</td>\n      <td>62.60</td>\n      <td>91.0</td>\n      <td>2.0</td>\n      <td>103.0</td>\n      <td>2.4</td>\n      <td>57.9</td>\n    </tr>\n    <tr>\n      <th>40</th>\n      <td>912.2</td>\n      <td>64.04</td>\n      <td>81.0</td>\n      <td>2.6</td>\n      <td>88.0</td>\n      <td>2.9</td>\n      <td>57.4</td>\n    </tr>\n    <tr>\n      <th>...</th>\n      <td>...</td>\n      <td>...</td>\n      <td>...</td>\n      <td>...</td>\n      <td>...</td>\n      <td>...</td>\n      <td>...</td>\n    </tr>\n    <tr>\n      <th>1587210</th>\n      <td>915.9</td>\n      <td>75.56</td>\n      <td>330.0</td>\n      <td>1.0</td>\n      <td>341.0</td>\n      <td>1.3</td>\n      <td>47.8</td>\n    </tr>\n    <tr>\n      <th>1587220</th>\n      <td>915.9</td>\n      <td>75.56</td>\n      <td>330.0</td>\n      <td>1.1</td>\n      <td>341.0</td>\n      <td>1.4</td>\n      <td>48.0</td>\n    </tr>\n    <tr>\n      <th>1587230</th>\n      <td>915.9</td>\n      <td>75.56</td>\n      <td>344.0</td>\n      <td>1.4</td>\n      <td>352.0</td>\n      <td>1.7</td>\n      <td>48.0</td>\n    </tr>\n    <tr>\n      <th>1587240</th>\n      <td>915.9</td>\n      <td>75.20</td>\n      <td>359.0</td>\n      <td>1.3</td>\n      <td>9.0</td>\n      <td>1.6</td>\n      <td>46.3</td>\n    </tr>\n    <tr>\n      <th>1587250</th>\n      <td>915.9</td>\n      <td>74.84</td>\n      <td>6.0</td>\n      <td>1.5</td>\n      <td>20.0</td>\n      <td>1.9</td>\n      <td>46.1</td>\n    </tr>\n  </tbody>\n</table>\n<p>158680 rows × 7 columns</p>\n</div>"
          },
          "metadata": {},
          "execution_count": 16
        }
      ]
    },
    {
      "cell_type": "code",
      "metadata": {
        "id": "fo8BLWwEoGZ-",
        "colab": {
          "base_uri": "https://localhost:8080/"
        },
        "outputId": "c6b53a30-6a3d-4ab4-85d5-538b1986ae5c"
      },
      "source": [
        "X = StandardScaler().fit_transform(select_df)\n",
        "X"
      ],
      "execution_count": 17,
      "outputs": [
        {
          "output_type": "execute_result",
          "data": {
            "text/plain": [
              "array([[-1.48456281,  0.24544455, -0.68385323, ..., -0.62153592,\n",
              "        -0.74440309,  0.49233835],\n",
              "       [-1.48456281,  0.03247142, -0.19055941, ...,  0.03826701,\n",
              "        -0.66171726, -0.34710804],\n",
              "       [-1.51733167,  0.12374562, -0.65236639, ..., -0.44847286,\n",
              "        -0.37231683,  0.40839371],\n",
              "       ...,\n",
              "       [-0.30488381,  1.15818654,  1.90856325, ...,  2.0393087 ,\n",
              "        -0.70306017,  0.01538018],\n",
              "       [-0.30488381,  1.12776181,  2.06599745, ..., -1.67073075,\n",
              "        -0.74440309, -0.04948614],\n",
              "       [-0.30488381,  1.09733708, -1.63895404, ..., -1.55174989,\n",
              "        -0.62037434, -0.05711747]])"
            ]
          },
          "metadata": {},
          "execution_count": 17
        }
      ]
    },
    {
      "cell_type": "code",
      "metadata": {
        "id": "5P_OH9OsoGj_",
        "colab": {
          "base_uri": "https://localhost:8080/"
        },
        "outputId": "122e493a-cb20-468c-f2f8-e4b998088174"
      },
      "source": [
        "#Using kmeans clustering\n",
        "kmeans = KMeans(n_clusters=12)\n",
        "model = kmeans.fit(X)\n",
        "print(\"model\\n\", model)"
      ],
      "execution_count": 18,
      "outputs": [
        {
          "output_type": "stream",
          "name": "stdout",
          "text": [
            "model\n KMeans(n_clusters=12)\n"
          ]
        }
      ]
    },
    {
      "cell_type": "code",
      "metadata": {
        "id": "XbuIrL3doQLZ",
        "colab": {
          "base_uri": "https://localhost:8080/"
        },
        "outputId": "2acd489e-2f89-4058-e8ba-9b90e1e7908d"
      },
      "source": [
        "centers = model.cluster_centers_\n",
        "centers"
      ],
      "execution_count": 19,
      "outputs": [
        {
          "output_type": "execute_result",
          "data": {
            "text/plain": [
              "array([[-1.17737734, -0.87777232,  0.44615882,  1.9737936 ,  0.5381945 ,\n",
              "         1.93514112,  0.91597052],\n",
              "       [ 0.69358449,  0.47602021,  0.28348808, -0.53617577,  0.47013705,\n",
              "        -0.54245837, -0.76615952],\n",
              "       [ 1.36761442, -0.08107524, -1.20577726, -0.05363592, -1.07430152,\n",
              "        -0.03352108, -0.97772654],\n",
              "       [-0.21089899,  0.63065273,  0.40856561,  0.73450115,  0.51672038,\n",
              "         0.67260313, -0.15060472],\n",
              "       [ 0.06356145, -0.79090727, -1.19795299, -0.56968477, -1.04400508,\n",
              "        -0.58420718,  0.87956654],\n",
              "       [ 0.26740905, -0.99530984,  0.66288754, -0.54572149,  0.85406368,\n",
              "        -0.5279962 ,  1.15319025],\n",
              "       [ 0.23365345,  0.31974333,  1.88793678, -0.65192542, -1.55171884,\n",
              "        -0.57676999, -0.28296819],\n",
              "       [ 1.19055363, -0.25460559, -1.15488347,  2.12092636, -1.05334127,\n",
              "         2.23761343, -1.13462861],\n",
              "       [-0.84147198, -1.20035435,  0.37548866,  0.3465543 ,  0.47446008,\n",
              "         0.3344944 ,  1.3662951 ],\n",
              "       [-0.716853  ,  0.51954809,  0.17305563, -0.58560334,  0.3428873 ,\n",
              "        -0.5990081 , -0.09436144],\n",
              "       [-0.16410673,  0.86318995, -1.31179965, -0.58937405, -1.16782564,\n",
              "        -0.60467433, -0.6408182 ],\n",
              "       [ 0.13526478,  0.83630058,  1.41468833, -0.638785  ,  1.67882443,\n",
              "        -0.58971195, -0.71514494]])"
            ]
          },
          "metadata": {},
          "execution_count": 19
        }
      ]
    }
  ]
}