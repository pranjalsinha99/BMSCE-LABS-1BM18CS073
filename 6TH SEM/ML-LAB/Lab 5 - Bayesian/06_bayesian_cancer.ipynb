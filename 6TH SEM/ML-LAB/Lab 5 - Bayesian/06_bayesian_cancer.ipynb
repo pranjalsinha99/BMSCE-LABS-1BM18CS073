{
 "metadata": {
  "language_info": {
   "codemirror_mode": {
    "name": "ipython",
    "version": 3
   },
   "file_extension": ".py",
   "mimetype": "text/x-python",
   "name": "python",
   "nbconvert_exporter": "python",
   "pygments_lexer": "ipython3",
   "version": "3.8.3"
  },
  "orig_nbformat": 2,
  "kernelspec": {
   "name": "python383jvsc74a57bd0855af5821cc905ef77fb55b78a5d4ee2260b8abbbf62a89393721590faeb7ff8",
   "display_name": "Python 3.8.3 64-bit (conda)"
  }
 },
 "nbformat": 4,
 "nbformat_minor": 2,
 "cells": [
  {
   "cell_type": "code",
   "execution_count": 1,
   "metadata": {},
   "outputs": [],
   "source": [
    "from pgmpy.models import BayesianModel\n",
    "from pgmpy.factors.discrete import TabularCPD\n",
    "from pgmpy.inference import VariableElimination"
   ]
  },
  {
   "cell_type": "code",
   "execution_count": 2,
   "metadata": {},
   "outputs": [
    {
     "output_type": "stream",
     "name": "stdout",
     "text": [
      "Bayesian network nodes are  ['Pollution', 'Cancer', 'Smoker', 'Xray', 'Dyspnoea']\nBayesian network edges are  [('Pollution', 'Cancer'), ('Cancer', 'Xray'), ('Cancer', 'Dyspnoea'), ('Smoker', 'Cancer')]\n"
     ]
    }
   ],
   "source": [
    "cancer_model = BayesianModel([('Pollution','Cancer'),('Smoker','Cancer'),('Cancer','Xray'),('Cancer','Dyspnoea')])\n",
    "print(\"Bayesian network nodes are \",cancer_model.nodes())\n",
    "print(\"Bayesian network edges are \",cancer_model.edges())"
   ]
  },
  {
   "cell_type": "code",
   "execution_count": 3,
   "metadata": {},
   "outputs": [],
   "source": [
    "cpd_poll = TabularCPD(variable='Pollution',variable_card=2,values=[[0.9],[0.1]])\n",
    "cpd_smoke = TabularCPD(variable='Smoker',variable_card=2,values=[[0.3],[0.7]])\n",
    "cpd_cancer = TabularCPD(variable='Cancer',variable_card=2,values=[[0.03,0.05,0.001,0.02],[0.97,0.95,0.999,0.98]],evidence=['Smoker','Pollution'],evidence_card=[2,2])\n",
    "cpd_xray = TabularCPD(variable='Xray',variable_card=2,values=[[0.9,0.2],[0.1,0.8]],evidence=['Cancer'],evidence_card=[2])\n",
    "cpd_dysp = TabularCPD(variable='Dyspnoea',variable_card=2,values=[[0.65,0.3],[0.35,0.7]],evidence=['Cancer'],evidence_card=[2])"
   ]
  },
  {
   "cell_type": "code",
   "execution_count": 4,
   "metadata": {},
   "outputs": [],
   "source": [
    "cancer_model.add_cpds(cpd_poll,cpd_smoke,cpd_cancer,cpd_xray,cpd_dysp)"
   ]
  },
  {
   "cell_type": "code",
   "execution_count": 5,
   "metadata": {},
   "outputs": [
    {
     "output_type": "stream",
     "name": "stdout",
     "text": [
      "Checking correctness\nTrue\n"
     ]
    }
   ],
   "source": [
    "print(\"Checking correctness\")\n",
    "print(cancer_model.check_model())"
   ]
  },
  {
   "cell_type": "code",
   "execution_count": 6,
   "metadata": {},
   "outputs": [
    {
     "output_type": "stream",
     "name": "stdout",
     "text": [
      "All local independencies\n\n"
     ]
    },
    {
     "output_type": "execute_result",
     "data": {
      "text/plain": [
       "(Pollution ⟂ Smoker)\n",
       "(Pollution ⟂ Xray, Dyspnoea | Cancer)\n",
       "(Pollution ⟂ Xray, Dyspnoea | Smoker, Cancer)\n",
       "(Pollution ⟂ Dyspnoea | Xray, Cancer)\n",
       "(Pollution ⟂ Xray | Cancer, Dyspnoea)\n",
       "(Pollution ⟂ Dyspnoea | Smoker, Xray, Cancer)\n",
       "(Pollution ⟂ Xray | Smoker, Cancer, Dyspnoea)\n",
       "(Smoker ⟂ Pollution)\n",
       "(Smoker ⟂ Xray, Dyspnoea | Cancer)\n",
       "(Smoker ⟂ Dyspnoea | Xray, Cancer)\n",
       "(Smoker ⟂ Xray, Dyspnoea | Pollution, Cancer)\n",
       "(Smoker ⟂ Xray | Cancer, Dyspnoea)\n",
       "(Smoker ⟂ Dyspnoea | Xray, Pollution, Cancer)\n",
       "(Smoker ⟂ Xray | Pollution, Cancer, Dyspnoea)\n",
       "(Xray ⟂ Smoker, Pollution, Dyspnoea | Cancer)\n",
       "(Xray ⟂ Pollution, Dyspnoea | Smoker, Cancer)\n",
       "(Xray ⟂ Smoker, Dyspnoea | Pollution, Cancer)\n",
       "(Xray ⟂ Smoker, Pollution | Cancer, Dyspnoea)\n",
       "(Xray ⟂ Dyspnoea | Smoker, Pollution, Cancer)\n",
       "(Xray ⟂ Pollution | Smoker, Cancer, Dyspnoea)\n",
       "(Xray ⟂ Smoker | Pollution, Cancer, Dyspnoea)\n",
       "(Dyspnoea ⟂ Smoker, Xray, Pollution | Cancer)\n",
       "(Dyspnoea ⟂ Xray, Pollution | Smoker, Cancer)\n",
       "(Dyspnoea ⟂ Smoker, Pollution | Xray, Cancer)\n",
       "(Dyspnoea ⟂ Smoker, Xray | Pollution, Cancer)\n",
       "(Dyspnoea ⟂ Pollution | Smoker, Xray, Cancer)\n",
       "(Dyspnoea ⟂ Xray | Smoker, Pollution, Cancer)\n",
       "(Dyspnoea ⟂ Smoker | Xray, Pollution, Cancer)"
      ]
     },
     "metadata": {},
     "execution_count": 6
    }
   ],
   "source": [
    "print(\"All local independencies\\n\")\n",
    "cancer_model.get_independencies()"
   ]
  },
  {
   "cell_type": "code",
   "execution_count": 7,
   "metadata": {},
   "outputs": [],
   "source": [
    "cancer_infer = VariableElimination(cancer_model)"
   ]
  },
  {
   "cell_type": "code",
   "execution_count": 8,
   "metadata": {},
   "outputs": [
    {
     "output_type": "stream",
     "name": "stderr",
     "text": [
      "Finding Elimination Order: : 100%|██████████| 3/3 [00:00<00:00, 2995.93it/s]\n",
      "Eliminating: Dyspnoea: 100%|██████████| 3/3 [00:00<00:00, 499.64it/s]Probability of Cancer given smoker\n",
      "+-----------+---------------+\n",
      "| Cancer    |   phi(Cancer) |\n",
      "+===========+===============+\n",
      "| Cancer(0) |        0.0029 |\n",
      "+-----------+---------------+\n",
      "| Cancer(1) |        0.9971 |\n",
      "+-----------+---------------+\n",
      "\n"
     ]
    }
   ],
   "source": [
    "print(\"Probability of Cancer given smoker\")\n",
    "q = cancer_infer.query(variables=['Cancer'],evidence={'Smoker': 1})\n",
    "print(q)"
   ]
  },
  {
   "cell_type": "code",
   "execution_count": 9,
   "metadata": {},
   "outputs": [
    {
     "output_type": "stream",
     "name": "stdout",
     "text": [
      "Probability of Cancer given smoker and polluion\n",
      "Finding Elimination Order: : 100%|██████████| 2/2 [00:00<00:00, 662.08it/s]\n",
      "Eliminating: Dyspnoea: 100%|██████████| 2/2 [00:00<00:00, 669.54it/s]+-----------+---------------+\n",
      "| Cancer    |   phi(Cancer) |\n",
      "+===========+===============+\n",
      "| Cancer(0) |        0.0200 |\n",
      "+-----------+---------------+\n",
      "| Cancer(1) |        0.9800 |\n",
      "+-----------+---------------+\n",
      "\n"
     ]
    }
   ],
   "source": [
    "print(\"Probability of Cancer given smoker and polluion\")\n",
    "q = cancer_infer.query(variables=['Cancer'],evidence={'Smoker': 1,'Pollution': 1})\n",
    "print(q)"
   ]
  },
  {
   "cell_type": "code",
   "execution_count": null,
   "metadata": {},
   "outputs": [],
   "source": []
  }
 ]
}